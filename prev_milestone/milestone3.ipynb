{
 "cells": [
  {
   "cell_type": "code",
   "execution_count": null,
   "metadata": {},
   "outputs": [],
   "source": [
    "import modern_robotics as mr \n",
    "import numpy as np \n",
    "import milestone_func as ms_func\n",
    "import matplotlib.pyplot as plt\n",
    "from milestone_config import *"
   ]
  },
  {
   "cell_type": "code",
   "execution_count": 57,
   "metadata": {},
   "outputs": [],
   "source": [
    "Xd = np.array([[0, 0, 1, .5], \n",
    "               [0, 1, 0, 0], \n",
    "               [-1, 0, 0, .5], \n",
    "               [0, 0, 0, 1]])\n",
    "Xd_next = np.array([[0, 0, 1, .6], \n",
    "                   [0, 1, 0, 0], \n",
    "                   [-1, 0, 0, .3], \n",
    "                   [0, 0, 0, 1]])\n",
    "X = np.array([[.17, 0, .985, .387], \n",
    "              [0, 1, 0, 0],\n",
    "              [-.985, 0, .17, .57], \n",
    "              [0, 0, 0, 1]])\n",
    "Kp = np.eye(6)\n",
    "Ki = np.zeros((6, 6))\n",
    "dt = .01"
   ]
  },
  {
   "cell_type": "code",
   "execution_count": null,
   "metadata": {},
   "outputs": [],
   "source": [
    "robot_config = np.array([0, 0, 0, 0, 0, .2, -1.6, 0])\n",
    "Jbase = "
   ]
  },
  {
   "cell_type": "code",
   "execution_count": null,
   "metadata": {},
   "outputs": [],
   "source": []
  },
  {
   "cell_type": "code",
   "execution_count": 55,
   "metadata": {},
   "outputs": [],
   "source": [
    "def Jacobian_EE():\n",
    "    \"\"\"\n",
    "    Je = [base (4), arm (5)]\n",
    "    \"\"\"\n",
    "    return"
   ]
  },
  {
   "cell_type": "code",
   "execution_count": 47,
   "metadata": {},
   "outputs": [
    {
     "data": {
      "text/plain": [
       "array([ 0.,  0.,  0., 20.,  0., 10.])"
      ]
     },
     "execution_count": 47,
     "metadata": {},
     "output_type": "execute_result"
    }
   ],
   "source": [
    "Vd =  mr.se3ToVec(mr.MatrixLog6(mr.TransInv(Xd) @ Xd_next)/dt)\n",
    "Vd"
   ]
  },
  {
   "cell_type": "code",
   "execution_count": 48,
   "metadata": {},
   "outputs": [
    {
     "data": {
      "text/plain": [
       "array([ 0.  ,  0.  ,  0.  , 21.4 ,  0.  ,  6.45])"
      ]
     },
     "execution_count": 48,
     "metadata": {},
     "output_type": "execute_result"
    }
   ],
   "source": [
    "Adj = mr.Adjoint(mr.TransInv(X) @ Xd)\n",
    "Adj @ Vd"
   ]
  },
  {
   "cell_type": "code",
   "execution_count": 49,
   "metadata": {},
   "outputs": [
    {
     "data": {
      "text/plain": [
       "array([0.        , 0.17085513, 0.        , 0.07945351, 0.        ,\n",
       "       0.10669436])"
      ]
     },
     "execution_count": 49,
     "metadata": {},
     "output_type": "execute_result"
    }
   ],
   "source": [
    "X_err = mr.se3ToVec(mr.MatrixLog6(mr.TransInv(X) @ Xd))\n",
    "X_err"
   ]
  },
  {
   "cell_type": "code",
   "execution_count": 50,
   "metadata": {},
   "outputs": [
    {
     "data": {
      "text/plain": [
       "array([ 0.        ,  0.17085513,  0.        , 21.47945351,  0.        ,\n",
       "        6.55669436])"
      ]
     },
     "execution_count": 50,
     "metadata": {},
     "output_type": "execute_result"
    }
   ],
   "source": [
    "X_err_int = X_err + X_err*dt\n",
    "Adj @ Vd + Kp @ X_err + Ki @ X_err_int"
   ]
  },
  {
   "cell_type": "code",
   "execution_count": 51,
   "metadata": {},
   "outputs": [],
   "source": [
    "def FeedbackControl(X, Xd, Xd_next, Kp, Ki, dt):\n",
    "    Vd =  mr.se3ToVec(mr.MatrixLog6(mr.TransInv(Xd) @ Xd_next)/dt)\n",
    "    Adj = mr.Adjoint(mr.TransInv(X) @ Xd)\n",
    "    X_err = mr.se3ToVec(mr.MatrixLog6(mr.TransInv(X) @ Xd))\n",
    "    X_err_int = X_err + X_err*dt\n",
    "    return Adj @ Vd + Kp @ X_err + Ki @ X_err_int"
   ]
  }
 ],
 "metadata": {
  "kernelspec": {
   "display_name": "MR_env",
   "language": "python",
   "name": "python3"
  },
  "language_info": {
   "codemirror_mode": {
    "name": "ipython",
    "version": 3
   },
   "file_extension": ".py",
   "mimetype": "text/x-python",
   "name": "python",
   "nbconvert_exporter": "python",
   "pygments_lexer": "ipython3",
   "version": "3.9.13"
  }
 },
 "nbformat": 4,
 "nbformat_minor": 2
}
