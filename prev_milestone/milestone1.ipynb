{
 "cells": [
  {
   "cell_type": "code",
   "execution_count": 7,
   "metadata": {},
   "outputs": [],
   "source": [
    "import modern_robotics as mr\n",
    "import numpy as np \n",
    "import csv\n",
    "import math"
   ]
  },
  {
   "cell_type": "code",
   "execution_count": 8,
   "metadata": {},
   "outputs": [],
   "source": [
    "L = .47/2\n",
    "W = .3/2\n",
    "R = .0475\n",
    "F = (R/4)*np.array([[-1/(L + W), 1/(L + W), 1/(L + W), -1/(L + W)],\n",
    "              [1, 1, 1, 1],\n",
    "              [-1, 1, -1, 1]])"
   ]
  },
  {
   "cell_type": "code",
   "execution_count": 9,
   "metadata": {},
   "outputs": [],
   "source": [
    "def to_csv(filename, res):\n",
    "    with open(filename, 'w', newline='') as csvfile:\n",
    "        writer = csv.writer(csvfile)\n",
    "        for r in res:\n",
    "            writer.writerow(r)\n",
    "            \n",
    "def cap(x, x_cap):\n",
    "    if x > x_cap:\n",
    "        return float(x_cap)\n",
    "    if x < -x_cap:\n",
    "        return float(-x_cap)\n",
    "    return float(x)"
   ]
  },
  {
   "cell_type": "code",
   "execution_count": 10,
   "metadata": {},
   "outputs": [],
   "source": [
    "def NextState(config, ctrl, dt, rom):\n",
    "    global F\n",
    "    for i in range(len(ctrl)):\n",
    "        # print(ctrl[i], rom[i])\n",
    "        ctrl[i] = cap(ctrl[i], rom[i])\n",
    "    # ctrl = np.nan_to_num(ctrl)\n",
    "    \n",
    "    wheel_vel = ctrl[:4]\n",
    "    Vb = F @ wheel_vel * dt # (3, 4) * (4, 1)   \n",
    "    wbz = Vb[0]\n",
    "    if math.isclose(wbz, 0, abs_tol=.0001): \n",
    "        dphib = 0\n",
    "        dxb = Vb[1]\n",
    "        dyb = Vb[2]\n",
    "    else:\n",
    "        dphib = Vb[0]\n",
    "        dxb = (Vb[1]*np.sin(Vb[0]) + Vb[2]*(np.cos(Vb[0]) - 1))/Vb[0]\n",
    "        dyb = (Vb[2]*np.sin(Vb[0]) + Vb[1]*(np.cos(Vb[0]) - 1))/Vb[0]\n",
    "    dqb = np.array([dphib, dxb, dyb])\n",
    "    dq = np.array([[1, 0, 0],\n",
    "                [0, np.cos(config[0]), -np.sin(config[0])],\n",
    "                [0, np.sin(config[0]), np.cos(config[0])]]) @ dqb\n",
    "\n",
    "    # update \n",
    "    new_joint = config[3:8] + ctrl[4:]*dt\n",
    "    new_wheel = config[8:]+ ctrl[:4]*dt\n",
    "    new_chassis = config[:3] + dq\n",
    "    \n",
    "    return np.array([*new_chassis, *new_joint, *new_wheel, 1])"
   ]
  },
  {
   "cell_type": "code",
   "execution_count": 11,
   "metadata": {},
   "outputs": [
    {
     "data": {
      "text/plain": [
       "(array([100., 100., 100., 100., 100., 100., 100., 100., 100.]),\n",
       " array([-10.,  10., -10.,  10.,   0.,   0.,   0.,   0.,   0.]))"
      ]
     },
     "execution_count": 11,
     "metadata": {},
     "output_type": "execute_result"
    }
   ],
   "source": [
    "config = np.zeros(12)\n",
    "ctrl = np.array([-10., 10., -10., 10., 0., 0., 0., 0., 0.])\n",
    "dt = .01\n",
    "rom = np.ones(9)*100\n",
    "rom, ctrl"
   ]
  },
  {
   "cell_type": "code",
   "execution_count": 12,
   "metadata": {},
   "outputs": [
    {
     "name": "stdout",
     "output_type": "stream",
     "text": [
      "[  0.      0.      0.475   0.      0.      0.      0.      0.    -10.\n",
      "  10.    -10.     10.   ]\n"
     ]
    }
   ],
   "source": [
    "res = []\n",
    "for _ in range(100):\n",
    "    config = NextState(config, ctrl, dt, rom)[:-1]\n",
    "    res.append(config)\n",
    "print(res[-1])"
   ]
  },
  {
   "cell_type": "code",
   "execution_count": null,
   "metadata": {},
   "outputs": [],
   "source": []
  }
 ],
 "metadata": {
  "kernelspec": {
   "display_name": "Python 3",
   "language": "python",
   "name": "python3"
  },
  "language_info": {
   "codemirror_mode": {
    "name": "ipython",
    "version": 3
   },
   "file_extension": ".py",
   "mimetype": "text/x-python",
   "name": "python",
   "nbconvert_exporter": "python",
   "pygments_lexer": "ipython3",
   "version": "3.9.13"
  }
 },
 "nbformat": 4,
 "nbformat_minor": 2
}
